{
 "cells": [
  {
   "cell_type": "markdown",
   "metadata": {},
   "source": [
    "### Functional Programming\n",
    "1.simple\n",
    "2.easy to understand\n",
    "3.better reusability\n",
    "4.length of the program is divided into sub programs"
   ]
  },
  {
   "cell_type": "code",
   "execution_count": null,
   "metadata": {},
   "outputs": [],
   "source": [
    "# read the number\n",
    "#print the even digits sum from the number\n",
    "\n",
    "#input:1234\n",
    "#output:6(2+4)\n",
    "\n",
    "def evendigitsum(n):\n",
    "    s=0\n",
    "    while n != 0:\n",
    "        r= n % 10\n",
    "        if r % 2 == 0:\n",
    "            s = s+r\n",
    "            n = n // 10\n",
    "    return s\n",
    "evendigitsum(1234)\n"
   ]
  },
  {
   "cell_type": "code",
   "execution_count": 1,
   "metadata": {},
   "outputs": [
    {
     "name": "stdout",
     "output_type": "stream",
     "text": [
      "16\n",
      "None\n"
     ]
    }
   ],
   "source": [
    "# define return function\n",
    "def square(x):\n",
    "    print(x*x)\n",
    "print(square(4))    "
   ]
  },
  {
   "cell_type": "code",
   "execution_count": 8,
   "metadata": {},
   "outputs": [],
   "source": [
    "def evendigitsum(n):\n",
    "    s=0\n",
    "    while n != 0:\n",
    "        r = n % 10\n",
    "        if r % 2 == 0:\n",
    "            s = s + r\n",
    "            n = n // 10\n",
    "            return s\n",
    "        print(evendigitsum(1234))"
   ]
  },
  {
   "cell_type": "code",
   "execution_count": 5,
   "metadata": {},
   "outputs": [
    {
     "name": "stdout",
     "output_type": "stream",
     "text": [
      "8\n",
      "None\n"
     ]
    }
   ],
   "source": [
    "def cube(x):\n",
    "    print(x*x*x)\n",
    "print(cube(2))    "
   ]
  },
  {
   "cell_type": "code",
   "execution_count": 7,
   "metadata": {},
   "outputs": [
    {
     "name": "stdout",
     "output_type": "stream",
     "text": [
      "8\n"
     ]
    }
   ],
   "source": [
    "def cube(x):\n",
    "    return(x*x*x)\n",
    "print(cube(2))"
   ]
  },
  {
   "cell_type": "code",
   "execution_count": 9,
   "metadata": {},
   "outputs": [
    {
     "name": "stdout",
     "output_type": "stream",
     "text": [
      "value of x= 4\n",
      "value of y= 2\n",
      "8\n"
     ]
    }
   ],
   "source": [
    "def multiply(x,y = 0):\n",
    "    print(\"value of x=\",x)\n",
    "    print(\"value of y=\",y)\n",
    "    return(x*y)\n",
    "print(multiply(y=2,x=4))"
   ]
  },
  {
   "cell_type": "code",
   "execution_count": 14,
   "metadata": {},
   "outputs": [],
   "source": [
    "#swap values\n",
    "def swap(x,y):\n",
    "    temp = x\n",
    "    x = y\n",
    "    temp = y;\n",
    "    \n",
    "    swap(2,4)\n",
    "    print(x)\n",
    "    print(y)\n",
    "    "
   ]
  },
  {
   "cell_type": "code",
   "execution_count": 16,
   "metadata": {},
   "outputs": [
    {
     "name": "stdout",
     "output_type": "stream",
     "text": [
      "The value of x after swapping: 10\n",
      "The value of y after swapping: 5\n"
     ]
    }
   ],
   "source": [
    "x = 5\n",
    "y = 10\n",
    "temp = x\n",
    "x = y\n",
    "y = temp\n",
    "\n",
    "print('The value of x after swapping: {}'.format(x))\n",
    "print('The value of y after swapping: {}'.format(y))"
   ]
  },
  {
   "cell_type": "code",
   "execution_count": 3,
   "metadata": {},
   "outputs": [
    {
     "data": {
      "text/plain": [
       "9"
      ]
     },
     "execution_count": 3,
     "metadata": {},
     "output_type": "execute_result"
    }
   ],
   "source": [
    " def largedigit(n):\n",
    "    large = 0\n",
    "    while n!=0:\n",
    "        r=n%10\n",
    "        if large < r:\n",
    "            large = r\n",
    "        n=n//10\n",
    "    return large\n",
    "largedigit(19535)"
   ]
  },
  {
   "cell_type": "markdown",
   "metadata": {},
   "source": [
    "## for loop\n",
    "##### syntax 1:\n",
    "for i in range (start,stop,step):\n",
    "> statements\n",
    "##### syntax 2:\n",
    "for i in iterableobject:\n",
    "> statements\n"
   ]
  },
  {
   "cell_type": "code",
   "execution_count": 4,
   "metadata": {},
   "outputs": [
    {
     "name": "stdout",
     "output_type": "stream",
     "text": [
      "1 2 3 4 5 6 7 8 9 10 "
     ]
    }
   ],
   "source": [
    "# function toprint the numbers btw two limits\n",
    "def printseries(lb,ub):\n",
    "    for x in range(lb,ub+1):\n",
    "        print(x,end=' ')\n",
    "    return\n",
    "printseries(1,10)"
   ]
  },
  {
   "cell_type": "markdown",
   "metadata": {},
   "source": [
    "## collection types:\n",
    "#### 1.set\n",
    "#### 2.tuple\n",
    "#### 3.dictionary\n",
    "#### 4.list"
   ]
  },
  {
   "cell_type": "markdown",
   "metadata": {},
   "source": [
    "### list:\n",
    "##### 1.one of the data stucture in python\n",
    "##### 2.data stucture means to store,sort and search options\n",
    "##### 3.it's one common data structure in python,the items of thye list seperatedby comma and enclosed in square brackets[]\n",
    "\n",
    "### examples:\n",
    "###### list1=[1,2,3,4,5]\n",
    "###### list2=[\"gitam\",1,2]"
   ]
  },
  {
   "cell_type": "code",
   "execution_count": 15,
   "metadata": {},
   "outputs": [
    {
     "name": "stdout",
     "output_type": "stream",
     "text": [
      "[1, 8, 16, 9, 2]\n",
      "1\n",
      "9\n",
      "8\n",
      "[16, 9, 2]\n",
      "[16, 9, 2]\n",
      "[]\n",
      "[8, 16, 9]\n",
      "[8, 16, 9]\n"
     ]
    }
   ],
   "source": [
    "li =[1,8,16,9,2]\n",
    "print(li)#will print all the list items\n",
    "print(li[0])\n",
    "print(li[3])\n",
    "print(li[-4])\n",
    "print(li[2:])\n",
    "print(li[-3:])\n",
    "print(li[5:])\n",
    "print(li[1:4])\n",
    "print(li[-4:-1])"
   ]
  },
  {
   "cell_type": "code",
   "execution_count": 16,
   "metadata": {},
   "outputs": [
    {
     "name": "stdout",
     "output_type": "stream",
     "text": [
      "['gitam', 4567, 'hyd']\n"
     ]
    }
   ],
   "source": [
    "#update list\n",
    "li = [\"gitam\",1234,'hyd']\n",
    "li[1] = 4567\n",
    "print(li)"
   ]
  },
  {
   "cell_type": "code",
   "execution_count": 17,
   "metadata": {},
   "outputs": [
    {
     "name": "stdout",
     "output_type": "stream",
     "text": [
      "['gitam', 1233, 2015, 2316, 'hyd']\n",
      "['gitam', 1233, 2015, 'hyd']\n"
     ]
    }
   ],
   "source": [
    "# delete list\n",
    "li = ['gitam',1233,2015,2316,'hyd']\n",
    "print(li)\n",
    "del li[3]\n",
    "print(li)"
   ]
  },
  {
   "cell_type": "code",
   "execution_count": null,
   "metadata": {},
   "outputs": [],
   "source": [
    "# basic list operations\n",
    "li = [1,2,3,4,5]\n",
    "#len of the string\n",
    "print(len(li))\n",
    "#"
   ]
  }
 ],
 "metadata": {
  "kernelspec": {
   "display_name": "Python 3",
   "language": "python",
   "name": "python3"
  },
  "language_info": {
   "codemirror_mode": {
    "name": "ipython",
    "version": 3
   },
   "file_extension": ".py",
   "mimetype": "text/x-python",
   "name": "python",
   "nbconvert_exporter": "python",
   "pygments_lexer": "ipython3",
   "version": "3.7.3"
  }
 },
 "nbformat": 4,
 "nbformat_minor": 2
}
